{
 "cells": [
  {
   "cell_type": "markdown",
   "metadata": {},
   "source": [
    "# Create example set of options"
   ]
  },
  {
   "cell_type": "code",
   "execution_count": 45,
   "metadata": {
    "collapsed": true
   },
   "outputs": [],
   "source": [
    "N = 20\n",
    "N_OUTCOMES = 4\n",
    "\n",
    "arr = []\n",
    "for i in range(N):\n",
    "    \n",
    "    r = [i]\n",
    "    for label in ['A', 'B']:\n",
    "        X = np.random.randint(100, size=N_OUTCOMES)\n",
    "        P = np.random.random(size=N_OUTCOMES)\n",
    "        P = P/P.sum()\n",
    "        ev = np.round(np.dot(X, P), 2)\n",
    "        r += list(X) + list(np.round(P, 2)) + [ev]\n",
    "    arr.append(r)\n",
    "    \n",
    "cols = ['id']\n",
    "for label in ['A', 'B']:\n",
    "    cols += [('%s_x%s' % (label, i)) for i in range(N_OUTCOMES)] + \\\n",
    "            [('%s_p%s' % (label, i)) for i in range(N_OUTCOMES)] + ['%s_ev' % label]"
   ]
  },
  {
   "cell_type": "code",
   "execution_count": 48,
   "metadata": {
    "collapsed": false
   },
   "outputs": [],
   "source": [
    "problems = pd.DataFrame(np.array(arr), columns=cols)\n",
    "problems.to_csv('static/option_sets_4.csv')"
   ]
  }
 ],
 "metadata": {
  "kernelspec": {
   "display_name": "Python 2",
   "language": "python",
   "name": "python2"
  },
  "language_info": {
   "codemirror_mode": {
    "name": "ipython",
    "version": 2
   },
   "file_extension": ".py",
   "mimetype": "text/x-python",
   "name": "python",
   "nbconvert_exporter": "python",
   "pygments_lexer": "ipython2",
   "version": "2.7.12"
  }
 },
 "nbformat": 4,
 "nbformat_minor": 0
}
